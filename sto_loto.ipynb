{
 "cells": [
  {
   "cell_type": "markdown",
   "metadata": {},
   "source": [
    "## Проект: оценка и предоставление результатов проведения а/в тестирования двух дизайнов email рассылки.\n",
    "#### Задача:– сравнить 2 группы и ответить на вопрос:сравнить 2 группы и ответить на вопрос: есть ли отличия в поведении участников в зависимости от макета (дизайна) письма?"
   ]
  },
  {
   "cell_type": "markdown",
   "metadata": {},
   "source": [
    "#### Выполнил: Кашаев Андрей"
   ]
  },
  {
   "cell_type": "markdown",
   "metadata": {},
   "source": [
    "### 1 Шаг Преданализ данных  и их качество\n",
    "### 2 Шаг Статистический анализ и тестирование"
   ]
  },
  {
   "cell_type": "markdown",
   "metadata": {},
   "source": [
    "#### 1 Шаг Преданализ данных  и их качество"
   ]
  },
  {
   "cell_type": "code",
   "execution_count": 2,
   "metadata": {},
   "outputs": [],
   "source": [
    "import pandas as pd\n",
    "import numpy as np\n",
    "import seaborn as sns\n",
    "import matplotlib.pyplot as plt\n",
    "import seaborn as sns\n",
    "from matplotlib import rcParams\n",
    "import math as mth\n",
    "from scipy import stats as st\n",
    "\n",
    "# размер графиков\n",
    "rcParams['figure.figsize'] = 11,8"
   ]
  },
  {
   "cell_type": "code",
   "execution_count": 3,
   "metadata": {},
   "outputs": [],
   "source": [
    "df = pd.read_excel('Данные.xlsx') # прочитаем данные"
   ]
  },
  {
   "cell_type": "code",
   "execution_count": 4,
   "metadata": {},
   "outputs": [
    {
     "data": {
      "text/html": [
       "<div>\n",
       "<style scoped>\n",
       "    .dataframe tbody tr th:only-of-type {\n",
       "        vertical-align: middle;\n",
       "    }\n",
       "\n",
       "    .dataframe tbody tr th {\n",
       "        vertical-align: top;\n",
       "    }\n",
       "\n",
       "    .dataframe thead th {\n",
       "        text-align: right;\n",
       "    }\n",
       "</style>\n",
       "<table border=\"1\" class=\"dataframe\">\n",
       "  <thead>\n",
       "    <tr style=\"text-align: right;\">\n",
       "      <th></th>\n",
       "      <th>Группа</th>\n",
       "      <th>ID потребителя</th>\n",
       "      <th>Флаг доставки Email</th>\n",
       "      <th>Флаг прочтения Email</th>\n",
       "      <th>Флаг перехода по Email</th>\n",
       "      <th>Продажи в мобильном приложении</th>\n",
       "      <th>Продажи Тотал</th>\n",
       "    </tr>\n",
       "  </thead>\n",
       "  <tbody>\n",
       "    <tr>\n",
       "      <th>0</th>\n",
       "      <td>Группа А</td>\n",
       "      <td>5066305263</td>\n",
       "      <td>1</td>\n",
       "      <td>N</td>\n",
       "      <td>0</td>\n",
       "      <td>NaN</td>\n",
       "      <td>350.0</td>\n",
       "    </tr>\n",
       "    <tr>\n",
       "      <th>1</th>\n",
       "      <td>Группа Б</td>\n",
       "      <td>5070957036</td>\n",
       "      <td>1</td>\n",
       "      <td>N</td>\n",
       "      <td>0</td>\n",
       "      <td>NaN</td>\n",
       "      <td>NaN</td>\n",
       "    </tr>\n",
       "    <tr>\n",
       "      <th>2</th>\n",
       "      <td>Группа А</td>\n",
       "      <td>5071201643</td>\n",
       "      <td>1</td>\n",
       "      <td>N</td>\n",
       "      <td>0</td>\n",
       "      <td>NaN</td>\n",
       "      <td>NaN</td>\n",
       "    </tr>\n",
       "    <tr>\n",
       "      <th>3</th>\n",
       "      <td>Группа А</td>\n",
       "      <td>5071882995</td>\n",
       "      <td>1</td>\n",
       "      <td>N</td>\n",
       "      <td>0</td>\n",
       "      <td>NaN</td>\n",
       "      <td>NaN</td>\n",
       "    </tr>\n",
       "    <tr>\n",
       "      <th>4</th>\n",
       "      <td>Группа А</td>\n",
       "      <td>5075332931</td>\n",
       "      <td>1</td>\n",
       "      <td>N</td>\n",
       "      <td>0</td>\n",
       "      <td>NaN</td>\n",
       "      <td>NaN</td>\n",
       "    </tr>\n",
       "  </tbody>\n",
       "</table>\n",
       "</div>"
      ],
      "text/plain": [
       "    Группа   ID потребителя  Флаг доставки Email Флаг прочтения Email  \\\n",
       "0  Группа А      5066305263                    1                    N   \n",
       "1  Группа Б      5070957036                    1                    N   \n",
       "2  Группа А      5071201643                    1                    N   \n",
       "3  Группа А      5071882995                    1                    N   \n",
       "4  Группа А      5075332931                    1                    N   \n",
       "\n",
       "   Флаг перехода по Email  Продажи в мобильном приложении  Продажи Тотал  \n",
       "0                       0                             NaN          350.0  \n",
       "1                       0                             NaN            NaN  \n",
       "2                       0                             NaN            NaN  \n",
       "3                       0                             NaN            NaN  \n",
       "4                       0                             NaN            NaN  "
      ]
     },
     "execution_count": 4,
     "metadata": {},
     "output_type": "execute_result"
    }
   ],
   "source": [
    "df.head()"
   ]
  },
  {
   "cell_type": "code",
   "execution_count": 155,
   "metadata": {},
   "outputs": [],
   "source": [
    "# Переименцум столбцы для удобства в латиницу\n",
    "df = df.rename(columns={'Группа ': 'grp_ts', 'ID потребителя': 'id', 'Флаг доставки Email': 'flag_to',\n",
    "       'Флаг прочтения Email': 'flag_read', 'Флаг перехода по Email':'flag_clic',\n",
    "       'Продажи в мобильном приложении': 'sales_mob', 'Продажи Тотал': 'sales_tot'})"
   ]
  },
  {
   "cell_type": "code",
   "execution_count": 156,
   "metadata": {},
   "outputs": [
    {
     "data": {
      "text/html": [
       "<div>\n",
       "<style scoped>\n",
       "    .dataframe tbody tr th:only-of-type {\n",
       "        vertical-align: middle;\n",
       "    }\n",
       "\n",
       "    .dataframe tbody tr th {\n",
       "        vertical-align: top;\n",
       "    }\n",
       "\n",
       "    .dataframe thead th {\n",
       "        text-align: right;\n",
       "    }\n",
       "</style>\n",
       "<table border=\"1\" class=\"dataframe\">\n",
       "  <thead>\n",
       "    <tr style=\"text-align: right;\">\n",
       "      <th></th>\n",
       "      <th>grp_ts</th>\n",
       "      <th>id</th>\n",
       "      <th>flag_to</th>\n",
       "      <th>flag_read</th>\n",
       "      <th>flag_clic</th>\n",
       "      <th>sales_mob</th>\n",
       "      <th>sales_tot</th>\n",
       "    </tr>\n",
       "  </thead>\n",
       "  <tbody>\n",
       "    <tr>\n",
       "      <th>0</th>\n",
       "      <td>Группа А</td>\n",
       "      <td>5066305263</td>\n",
       "      <td>1</td>\n",
       "      <td>N</td>\n",
       "      <td>0</td>\n",
       "      <td>NaN</td>\n",
       "      <td>350.0</td>\n",
       "    </tr>\n",
       "    <tr>\n",
       "      <th>1</th>\n",
       "      <td>Группа Б</td>\n",
       "      <td>5070957036</td>\n",
       "      <td>1</td>\n",
       "      <td>N</td>\n",
       "      <td>0</td>\n",
       "      <td>NaN</td>\n",
       "      <td>NaN</td>\n",
       "    </tr>\n",
       "    <tr>\n",
       "      <th>2</th>\n",
       "      <td>Группа А</td>\n",
       "      <td>5071201643</td>\n",
       "      <td>1</td>\n",
       "      <td>N</td>\n",
       "      <td>0</td>\n",
       "      <td>NaN</td>\n",
       "      <td>NaN</td>\n",
       "    </tr>\n",
       "    <tr>\n",
       "      <th>3</th>\n",
       "      <td>Группа А</td>\n",
       "      <td>5071882995</td>\n",
       "      <td>1</td>\n",
       "      <td>N</td>\n",
       "      <td>0</td>\n",
       "      <td>NaN</td>\n",
       "      <td>NaN</td>\n",
       "    </tr>\n",
       "    <tr>\n",
       "      <th>4</th>\n",
       "      <td>Группа А</td>\n",
       "      <td>5075332931</td>\n",
       "      <td>1</td>\n",
       "      <td>N</td>\n",
       "      <td>0</td>\n",
       "      <td>NaN</td>\n",
       "      <td>NaN</td>\n",
       "    </tr>\n",
       "  </tbody>\n",
       "</table>\n",
       "</div>"
      ],
      "text/plain": [
       "     grp_ts          id  flag_to flag_read  flag_clic  sales_mob  sales_tot\n",
       "0  Группа А  5066305263        1         N          0        NaN      350.0\n",
       "1  Группа Б  5070957036        1         N          0        NaN        NaN\n",
       "2  Группа А  5071201643        1         N          0        NaN        NaN\n",
       "3  Группа А  5071882995        1         N          0        NaN        NaN\n",
       "4  Группа А  5075332931        1         N          0        NaN        NaN"
      ]
     },
     "execution_count": 156,
     "metadata": {},
     "output_type": "execute_result"
    }
   ],
   "source": [
    "df.head() # Оценим манипуляции"
   ]
  },
  {
   "cell_type": "code",
   "execution_count": 157,
   "metadata": {},
   "outputs": [
    {
     "name": "stdout",
     "output_type": "stream",
     "text": [
      "<class 'pandas.core.frame.DataFrame'>\n",
      "RangeIndex: 10462 entries, 0 to 10461\n",
      "Data columns (total 7 columns):\n",
      "grp_ts       10462 non-null object\n",
      "id           10462 non-null int64\n",
      "flag_to      10462 non-null int64\n",
      "flag_read    10462 non-null object\n",
      "flag_clic    10462 non-null int64\n",
      "sales_mob    122 non-null float64\n",
      "sales_tot    1653 non-null float64\n",
      "dtypes: float64(2), int64(3), object(2)\n",
      "memory usage: 572.2+ KB\n"
     ]
    }
   ],
   "source": [
    "df.info()# Постмотрим на данные"
   ]
  },
  {
   "cell_type": "markdown",
   "metadata": {},
   "source": [
    "###### Видно, что целевая переменная - 'продажи в мобильном приложении' практически не запонена."
   ]
  },
  {
   "cell_type": "code",
   "execution_count": 158,
   "metadata": {},
   "outputs": [],
   "source": [
    "df_ad = df.loc[(df['grp_ts'] == 'Группа А')]\n",
    "df_bd = df.loc[(df['grp_ts'] == 'Группа Б')] # разделим датафрейм на группы для их оценки"
   ]
  },
  {
   "cell_type": "code",
   "execution_count": 159,
   "metadata": {},
   "outputs": [
    {
     "data": {
      "text/html": [
       "<div>\n",
       "<style scoped>\n",
       "    .dataframe tbody tr th:only-of-type {\n",
       "        vertical-align: middle;\n",
       "    }\n",
       "\n",
       "    .dataframe tbody tr th {\n",
       "        vertical-align: top;\n",
       "    }\n",
       "\n",
       "    .dataframe thead th {\n",
       "        text-align: right;\n",
       "    }\n",
       "</style>\n",
       "<table border=\"1\" class=\"dataframe\">\n",
       "  <thead>\n",
       "    <tr style=\"text-align: right;\">\n",
       "      <th></th>\n",
       "      <th>id</th>\n",
       "      <th>flag_to</th>\n",
       "      <th>flag_clic</th>\n",
       "      <th>sales_mob</th>\n",
       "      <th>sales_tot</th>\n",
       "    </tr>\n",
       "  </thead>\n",
       "  <tbody>\n",
       "    <tr>\n",
       "      <th>count</th>\n",
       "      <td>5.231000e+03</td>\n",
       "      <td>5231.000000</td>\n",
       "      <td>5231.000000</td>\n",
       "      <td>69.000000</td>\n",
       "      <td>811.000000</td>\n",
       "    </tr>\n",
       "    <tr>\n",
       "      <th>mean</th>\n",
       "      <td>7.186113e+12</td>\n",
       "      <td>0.990250</td>\n",
       "      <td>0.048557</td>\n",
       "      <td>580.434783</td>\n",
       "      <td>1250.240444</td>\n",
       "    </tr>\n",
       "    <tr>\n",
       "      <th>std</th>\n",
       "      <td>9.041688e+11</td>\n",
       "      <td>0.098267</td>\n",
       "      <td>0.214960</td>\n",
       "      <td>1155.874936</td>\n",
       "      <td>5653.509483</td>\n",
       "    </tr>\n",
       "    <tr>\n",
       "      <th>min</th>\n",
       "      <td>5.066305e+09</td>\n",
       "      <td>0.000000</td>\n",
       "      <td>0.000000</td>\n",
       "      <td>50.000000</td>\n",
       "      <td>25.000000</td>\n",
       "    </tr>\n",
       "    <tr>\n",
       "      <th>25%</th>\n",
       "      <td>7.372654e+12</td>\n",
       "      <td>1.000000</td>\n",
       "      <td>0.000000</td>\n",
       "      <td>125.000000</td>\n",
       "      <td>100.000000</td>\n",
       "    </tr>\n",
       "    <tr>\n",
       "      <th>50%</th>\n",
       "      <td>7.462781e+12</td>\n",
       "      <td>1.000000</td>\n",
       "      <td>0.000000</td>\n",
       "      <td>290.000000</td>\n",
       "      <td>200.000000</td>\n",
       "    </tr>\n",
       "    <tr>\n",
       "      <th>75%</th>\n",
       "      <td>7.493896e+12</td>\n",
       "      <td>1.000000</td>\n",
       "      <td>0.000000</td>\n",
       "      <td>600.000000</td>\n",
       "      <td>500.000000</td>\n",
       "    </tr>\n",
       "    <tr>\n",
       "      <th>max</th>\n",
       "      <td>7.533239e+12</td>\n",
       "      <td>1.000000</td>\n",
       "      <td>1.000000</td>\n",
       "      <td>7830.000000</td>\n",
       "      <td>42000.000000</td>\n",
       "    </tr>\n",
       "  </tbody>\n",
       "</table>\n",
       "</div>"
      ],
      "text/plain": [
       "                 id      flag_to    flag_clic    sales_mob     sales_tot\n",
       "count  5.231000e+03  5231.000000  5231.000000    69.000000    811.000000\n",
       "mean   7.186113e+12     0.990250     0.048557   580.434783   1250.240444\n",
       "std    9.041688e+11     0.098267     0.214960  1155.874936   5653.509483\n",
       "min    5.066305e+09     0.000000     0.000000    50.000000     25.000000\n",
       "25%    7.372654e+12     1.000000     0.000000   125.000000    100.000000\n",
       "50%    7.462781e+12     1.000000     0.000000   290.000000    200.000000\n",
       "75%    7.493896e+12     1.000000     0.000000   600.000000    500.000000\n",
       "max    7.533239e+12     1.000000     1.000000  7830.000000  42000.000000"
      ]
     },
     "metadata": {},
     "output_type": "display_data"
    },
    {
     "data": {
      "text/html": [
       "<div>\n",
       "<style scoped>\n",
       "    .dataframe tbody tr th:only-of-type {\n",
       "        vertical-align: middle;\n",
       "    }\n",
       "\n",
       "    .dataframe tbody tr th {\n",
       "        vertical-align: top;\n",
       "    }\n",
       "\n",
       "    .dataframe thead th {\n",
       "        text-align: right;\n",
       "    }\n",
       "</style>\n",
       "<table border=\"1\" class=\"dataframe\">\n",
       "  <thead>\n",
       "    <tr style=\"text-align: right;\">\n",
       "      <th></th>\n",
       "      <th>id</th>\n",
       "      <th>flag_to</th>\n",
       "      <th>flag_clic</th>\n",
       "      <th>sales_mob</th>\n",
       "      <th>sales_tot</th>\n",
       "    </tr>\n",
       "  </thead>\n",
       "  <tbody>\n",
       "    <tr>\n",
       "      <th>count</th>\n",
       "      <td>5.231000e+03</td>\n",
       "      <td>5231.000000</td>\n",
       "      <td>5231.000000</td>\n",
       "      <td>53.000000</td>\n",
       "      <td>842.000000</td>\n",
       "    </tr>\n",
       "    <tr>\n",
       "      <th>mean</th>\n",
       "      <td>7.207705e+12</td>\n",
       "      <td>0.993118</td>\n",
       "      <td>0.042248</td>\n",
       "      <td>500.660377</td>\n",
       "      <td>1349.257720</td>\n",
       "    </tr>\n",
       "    <tr>\n",
       "      <th>std</th>\n",
       "      <td>8.683012e+11</td>\n",
       "      <td>0.082680</td>\n",
       "      <td>0.201174</td>\n",
       "      <td>720.602738</td>\n",
       "      <td>6126.984651</td>\n",
       "    </tr>\n",
       "    <tr>\n",
       "      <th>min</th>\n",
       "      <td>5.070957e+09</td>\n",
       "      <td>0.000000</td>\n",
       "      <td>0.000000</td>\n",
       "      <td>30.000000</td>\n",
       "      <td>25.000000</td>\n",
       "    </tr>\n",
       "    <tr>\n",
       "      <th>25%</th>\n",
       "      <td>7.373385e+12</td>\n",
       "      <td>1.000000</td>\n",
       "      <td>0.000000</td>\n",
       "      <td>150.000000</td>\n",
       "      <td>100.000000</td>\n",
       "    </tr>\n",
       "    <tr>\n",
       "      <th>50%</th>\n",
       "      <td>7.466519e+12</td>\n",
       "      <td>1.000000</td>\n",
       "      <td>0.000000</td>\n",
       "      <td>250.000000</td>\n",
       "      <td>200.000000</td>\n",
       "    </tr>\n",
       "    <tr>\n",
       "      <th>75%</th>\n",
       "      <td>7.494426e+12</td>\n",
       "      <td>1.000000</td>\n",
       "      <td>0.000000</td>\n",
       "      <td>400.000000</td>\n",
       "      <td>517.500000</td>\n",
       "    </tr>\n",
       "    <tr>\n",
       "      <th>max</th>\n",
       "      <td>7.533239e+12</td>\n",
       "      <td>1.000000</td>\n",
       "      <td>1.000000</td>\n",
       "      <td>4410.000000</td>\n",
       "      <td>59875.000000</td>\n",
       "    </tr>\n",
       "  </tbody>\n",
       "</table>\n",
       "</div>"
      ],
      "text/plain": [
       "                 id      flag_to    flag_clic    sales_mob     sales_tot\n",
       "count  5.231000e+03  5231.000000  5231.000000    53.000000    842.000000\n",
       "mean   7.207705e+12     0.993118     0.042248   500.660377   1349.257720\n",
       "std    8.683012e+11     0.082680     0.201174   720.602738   6126.984651\n",
       "min    5.070957e+09     0.000000     0.000000    30.000000     25.000000\n",
       "25%    7.373385e+12     1.000000     0.000000   150.000000    100.000000\n",
       "50%    7.466519e+12     1.000000     0.000000   250.000000    200.000000\n",
       "75%    7.494426e+12     1.000000     0.000000   400.000000    517.500000\n",
       "max    7.533239e+12     1.000000     1.000000  4410.000000  59875.000000"
      ]
     },
     "metadata": {},
     "output_type": "display_data"
    }
   ],
   "source": [
    "display(df_ad.describe(), df_bd.describe())  "
   ]
  },
  {
   "cell_type": "code",
   "execution_count": 160,
   "metadata": {},
   "outputs": [
    {
     "data": {
      "text/plain": [
       "<matplotlib.axes._subplots.AxesSubplot at 0x286b6d33eb8>"
      ]
     },
     "execution_count": 160,
     "metadata": {},
     "output_type": "execute_result"
    },
    {
     "data": {
      "image/png": "[encoded data removed]",
      "text/plain": [
       "<Figure size 792x576 with 1 Axes>"
      ]
     },
     "metadata": {
      "needs_background": "light"
     },
     "output_type": "display_data"
    }
   ],
   "source": [
    "# Постморим на распределение доставленных писем и писем с переходом\n",
    "sns.countplot(x=df[\"flag_to\"])"
   ]
  },
  {
   "cell_type": "markdown",
   "metadata": {},
   "source": [
    "Прежде, чем перейдем к анализу данных стоит уточнить, не есть ли так, что клиенты группы А наличны в группе В и наоборот."
   ]
  },
  {
   "cell_type": "code",
   "execution_count": 161,
   "metadata": {},
   "outputs": [
    {
     "data": {
      "text/plain": [
       "0"
      ]
     },
     "execution_count": 161,
     "metadata": {},
     "output_type": "execute_result"
    }
   ],
   "source": [
    "len(pd.merge(df_ad, df_bd, how = 'inner', on = 'id')[['id']])"
   ]
  },
  {
   "cell_type": "markdown",
   "metadata": {},
   "source": [
    "JOIN нам указвает, что клиенты не пересекаются в группах, а значит это четкие незавимые группы клиентов. \n",
    "И в дальнейшем мы будем применять стат.тесты для независимых выборок."
   ]
  },
  {
   "cell_type": "code",
   "execution_count": 162,
   "metadata": {},
   "outputs": [
    {
     "data": {
      "text/plain": [
       "1    10375\n",
       "0       87\n",
       "Name: flag_to, dtype: int64"
      ]
     },
     "execution_count": 162,
     "metadata": {},
     "output_type": "execute_result"
    }
   ],
   "source": [
    "df.flag_to.value_counts() "
   ]
  },
  {
   "cell_type": "markdown",
   "metadata": {},
   "source": [
    "Граифик подсчета значений показвает, что кол-во недоставленных писем мизерно. Предварительно, эти письма можно исключить из анализа"
   ]
  },
  {
   "cell_type": "markdown",
   "metadata": {},
   "source": [
    "Посмотрим на количество уникальных поль-лей. Может так оказатся, что одному пользователю было доставлено два письма"
   ]
  },
  {
   "cell_type": "markdown",
   "metadata": {},
   "source": [
    "Стоит сказать, что кол-во доставленных и недоставлевнных писем в группах одиноаково, так и кол-во пользователей в тесте одинаково. Так как нам не интересны позиции по недоставленным письмам,  то стоит исключиь из анализа эти письма, ибо это тех. ошибки. Важно уточнить, что группы  А и В одинаковы и соразмерны. "
   ]
  },
  {
   "cell_type": "code",
   "execution_count": 138,
   "metadata": {},
   "outputs": [],
   "source": [
    "df = df.loc[(df['flag_to'] == 1)]"
   ]
  },
  {
   "cell_type": "markdown",
   "metadata": {},
   "source": [
    "Не менее важно посмотреть как выглядит распределение по открытию писем в группах"
   ]
  },
  {
   "cell_type": "code",
   "execution_count": 139,
   "metadata": {},
   "outputs": [
    {
     "data": {
      "text/html": [
       "<div>\n",
       "<style scoped>\n",
       "    .dataframe tbody tr th:only-of-type {\n",
       "        vertical-align: middle;\n",
       "    }\n",
       "\n",
       "    .dataframe tbody tr th {\n",
       "        vertical-align: top;\n",
       "    }\n",
       "\n",
       "    .dataframe thead th {\n",
       "        text-align: right;\n",
       "    }\n",
       "</style>\n",
       "<table border=\"1\" class=\"dataframe\">\n",
       "  <thead>\n",
       "    <tr style=\"text-align: right;\">\n",
       "      <th></th>\n",
       "      <th>grp_ts</th>\n",
       "      <th>flag_clic</th>\n",
       "      <th>id</th>\n",
       "      <th>con_cl</th>\n",
       "    </tr>\n",
       "  </thead>\n",
       "  <tbody>\n",
       "    <tr>\n",
       "      <th>0</th>\n",
       "      <td>Группа А</td>\n",
       "      <td>254</td>\n",
       "      <td>5180</td>\n",
       "      <td>4.90</td>\n",
       "    </tr>\n",
       "    <tr>\n",
       "      <th>1</th>\n",
       "      <td>Группа Б</td>\n",
       "      <td>221</td>\n",
       "      <td>5195</td>\n",
       "      <td>4.25</td>\n",
       "    </tr>\n",
       "  </tbody>\n",
       "</table>\n",
       "</div>"
      ],
      "text/plain": [
       "     grp_ts  flag_clic    id  con_cl\n",
       "0  Группа А        254  5180    4.90\n",
       "1  Группа Б        221  5195    4.25"
      ]
     },
     "execution_count": 139,
     "metadata": {},
     "output_type": "execute_result"
    }
   ],
   "source": [
    "df_cl = df.groupby(['grp_ts']).agg({'flag_clic':'sum','id':'nunique'}).reset_index()\n",
    "df_cl['con_cl'] =  (df_cl['flag_clic']/df_cl['id']*100).round(2)\n",
    "df_cl"
   ]
  },
  {
   "cell_type": "markdown",
   "metadata": {},
   "source": [
    "Видим, что конверсия по кликам в групе А чуть выше, чем в группе В. Вообще ничего не значить. Посмотрим, что если посмотреть на целевую переменную покупкив моб. приложении. Сделаем тоже самое"
   ]
  },
  {
   "cell_type": "code",
   "execution_count": 140,
   "metadata": {},
   "outputs": [
    {
     "data": {
      "text/html": [
       "<div>\n",
       "<style scoped>\n",
       "    .dataframe tbody tr th:only-of-type {\n",
       "        vertical-align: middle;\n",
       "    }\n",
       "\n",
       "    .dataframe tbody tr th {\n",
       "        vertical-align: top;\n",
       "    }\n",
       "\n",
       "    .dataframe thead th {\n",
       "        text-align: right;\n",
       "    }\n",
       "</style>\n",
       "<table border=\"1\" class=\"dataframe\">\n",
       "  <thead>\n",
       "    <tr style=\"text-align: right;\">\n",
       "      <th></th>\n",
       "      <th>grp_ts</th>\n",
       "      <th>sales_mob</th>\n",
       "      <th>id</th>\n",
       "      <th>con_cl</th>\n",
       "    </tr>\n",
       "  </thead>\n",
       "  <tbody>\n",
       "    <tr>\n",
       "      <th>0</th>\n",
       "      <td>Группа А</td>\n",
       "      <td>40050.0</td>\n",
       "      <td>5180</td>\n",
       "      <td>773.17</td>\n",
       "    </tr>\n",
       "    <tr>\n",
       "      <th>1</th>\n",
       "      <td>Группа Б</td>\n",
       "      <td>26535.0</td>\n",
       "      <td>5195</td>\n",
       "      <td>510.78</td>\n",
       "    </tr>\n",
       "  </tbody>\n",
       "</table>\n",
       "</div>"
      ],
      "text/plain": [
       "     grp_ts  sales_mob    id  con_cl\n",
       "0  Группа А    40050.0  5180  773.17\n",
       "1  Группа Б    26535.0  5195  510.78"
      ]
     },
     "execution_count": 140,
     "metadata": {},
     "output_type": "execute_result"
    }
   ],
   "source": [
    "df_cl = df.groupby(['grp_ts']).agg({'sales_mob':'sum','id':'nunique'}).reset_index()\n",
    "df_cl['con_cl'] =  (df_cl['sales_mob']/df_cl['id']*100).round(2)\n",
    "df_cl"
   ]
  },
  {
   "cell_type": "markdown",
   "metadata": {},
   "source": [
    "Из таблице выше, заключаем, что в срднем один пользователь, приносить в группе А на 35% у.е больше чем по группе В. \n",
    "Уже, что-то прояснятется, но стоит провести статистические тесты. Где рандомно сопостаим кол-во id в группах."
   ]
  },
  {
   "cell_type": "markdown",
   "metadata": {},
   "source": [
    "Проверим гипотезу о равенстве долей в двух группах. НО прежде проверим гипотезу на нормальное распределение данных.Методом шапиро уилка. В зависимомти от распределения, стоит выбирать статист. критерий"
   ]
  },
  {
   "cell_type": "markdown",
   "metadata": {},
   "source": [
    "#### 2 Шаг Статистический анализ и тестирование"
   ]
  },
  {
   "cell_type": "code",
   "execution_count": 141,
   "metadata": {},
   "outputs": [
    {
     "name": "stdout",
     "output_type": "stream",
     "text": [
      "p-значение:  0.0\n",
      "Отвергаем нулевую гипотезу: распределение не нормально\n"
     ]
    }
   ],
   "source": [
    "sample_1 = df['sales_tot'].fillna(0)\n",
    "\n",
    "alpha = 0.05  # критический уровень статистической значимости\n",
    "\n",
    "results = st.shapiro(sample_1)\n",
    "p_value = results[\n",
    "    1\n",
    "]  # второе значение в массиве результатов (с индексом 1) - p-value\n",
    "\n",
    "print('p-значение: ', p_value)\n",
    "\n",
    "if p_value < alpha:\n",
    "    print('Отвергаем нулевую гипотезу: распределение не нормально')\n",
    "else:\n",
    "    print('Не получилось отвергнуть нулевую гипотезу, всё нормально')"
   ]
  },
  {
   "cell_type": "markdown",
   "metadata": {},
   "source": [
    "С учетом, того, что данные не нормально распределены, для проверики гипотезы будем использовать непараметрически критерий \n",
    "Уилкоксона-Манна-Уитни ддя независимых выборок"
   ]
  },
  {
   "cell_type": "code",
   "execution_count": 142,
   "metadata": {},
   "outputs": [],
   "source": [
    "# Заменим пропуски на 0 для лучшей работы стат.тестов\n",
    "df['sales_mob'] = df['sales_mob'].fillna(0)\n",
    "df['sales_tot'] = df['sales_tot'].fillna(0)\n"
   ]
  },
  {
   "cell_type": "code",
   "execution_count": 143,
   "metadata": {},
   "outputs": [],
   "source": [
    "# Ращдедим группы\n",
    "df_a = df.loc[(df['grp_ts'] == 'Группа А')]\n",
    "df_b = df.loc[(df['grp_ts'] == 'Группа Б')]"
   ]
  },
  {
   "cell_type": "code",
   "execution_count": 144,
   "metadata": {},
   "outputs": [
    {
     "name": "stdout",
     "output_type": "stream",
     "text": [
      "p-значение:  0.879023673792463\n",
      "Не получилось отвергнуть нулевую гипотезу, нет оснований считать доли разными\n"
     ]
    }
   ],
   "source": [
    "from scipy import stats as st\n",
    "import numpy as np\n",
    "import cmath as сmth\n",
    "\n",
    "alpha = 0.05  # критический уровень статистической значимости\n",
    "\n",
    "purchases = np.array([254, 5180])\n",
    "leads = np.array([221, 5195])\n",
    "\n",
    "# пропорция успехов в первой группе:\n",
    "p1 = purchases[0]/leads[0]\n",
    "\n",
    "# пропорция успехов во второй группе:\n",
    "p2 = purchases[1]/leads[1]\n",
    "\n",
    "# пропорция успехов в комбинированном датасете:\n",
    "p_combined = (purchases[0] + purchases[1]) / (leads[0] + leads[1])\n",
    "\n",
    "# разница пропорций в датасетах\n",
    "difference = p1 - p2\n",
    "\n",
    "\n",
    "z_value = difference / (0.5)**(p_combined * (1 - p_combined) * (1/leads[0] + 1/leads[1]))\n",
    "# задаем стандартное нормальное распределение (среднее 0, ст.отклонение 1)\n",
    "distr = st.norm(0, 1)  \n",
    "\n",
    "p_value = (1 - distr.cdf(abs(z_value))) * 2\n",
    "\n",
    "print('p-значение: ', p_value)\n",
    "\n",
    "if p_value < alpha:\n",
    "    print('Отвергаем нулевую гипотезу: между долями есть значимая разница')\n",
    "else:\n",
    "    print(\n",
    "        'Не получилось отвергнуть нулевую гипотезу, нет оснований считать доли разными'\n",
    "    )"
   ]
  },
  {
   "cell_type": "markdown",
   "metadata": {},
   "source": [
    "По уроне долей гипотезе о их равенстве отвеграется. Однако целевая переменная у нас другая - продажив мобильном приложении. \n",
    "Посмотрим как она будет вести себя на стат. тестах"
   ]
  },
  {
   "cell_type": "code",
   "execution_count": 146,
   "metadata": {},
   "outputs": [
    {
     "name": "stdout",
     "output_type": "stream",
     "text": [
      "p-значение:  0.0723539878821017\n",
      "Не получилось отвергнуть нулевую гипотезу, вывод о различии сделать нельзя\n"
     ]
    }
   ],
   "source": [
    "sample_1 = df_a['sales_mob'].sample(5170, random_state=42)\n",
    "sample_2 = df_b['sales_mob'].sample(5170, random_state=42)\n",
    "\n",
    "alpha = 0.05 # уровень статистической значимости\n",
    "# если p-value окажется меньше него, отвергнем гипотезу\n",
    "\n",
    "results = st.mannwhitneyu(sample_1, sample_2)\n",
    "\n",
    "\n",
    "print('p-значение: ', results.pvalue)\n",
    "\n",
    "if results.pvalue < alpha:\n",
    "    print('Отвергаем нулевую гипотезу: разница статистически значима')\n",
    "else:\n",
    "    print(\n",
    "        'Не получилось отвергнуть нулевую гипотезу, вывод о различии сделать нельзя'\n",
    "    ) \n"
   ]
  },
  {
   "cell_type": "markdown",
   "metadata": {},
   "source": [
    "В целом гипотеза о различиях в двух группах не подтверждается"
   ]
  },
  {
   "cell_type": "markdown",
   "metadata": {},
   "source": [
    "Уточним как ведет себя переменная  \"клики\" на тесте манна-уитни. Может быть там, что-то иное"
   ]
  },
  {
   "cell_type": "code",
   "execution_count": 147,
   "metadata": {},
   "outputs": [
    {
     "name": "stdout",
     "output_type": "stream",
     "text": [
      "p-значение:  0.060187618468605646\n",
      "Не получилось отвергнуть нулевую гипотезу, вывод о различии сделать нельзя\n"
     ]
    }
   ],
   "source": [
    "from scipy import stats as st\n",
    "import numpy as np\n",
    "\n",
    "sample_1 = df_a['flag_clic'].sample(5170, random_state=42)\n",
    "sample_2 = df_b['flag_clic'].sample(5170, random_state=42)\n",
    "\n",
    "alpha = 0.05 # уровень статистической значимости\n",
    "# если p-value окажется меньше него, отвергнем гипотезу\n",
    "\n",
    "results = st.mannwhitneyu(sample_1, sample_2)\n",
    "\n",
    "\n",
    "print('p-значение: ', results.pvalue)\n",
    "\n",
    "if results.pvalue < alpha:\n",
    "    print('Отвергаем нулевую гипотезу: разница статистически значима')\n",
    "else:\n",
    "    print(\n",
    "        'Не получилось отвергнуть нулевую гипотезу, вывод о различии сделать нельзя'\n",
    "    ) "
   ]
  },
  {
   "cell_type": "markdown",
   "metadata": {},
   "source": [
    "К сожалению нет!!! В карйнем случаем ожно оценить, два макета на основе переменной тотал-продажи. Вдруг работа бизнеса и дизайнеров не прошла даром"
   ]
  },
  {
   "cell_type": "code",
   "execution_count": 148,
   "metadata": {},
   "outputs": [
    {
     "name": "stdout",
     "output_type": "stream",
     "text": [
      "p-значение:  0.13912909254143357\n",
      "Не получилось отвергнуть нулевую гипотезу, вывод о различии сделать нельзя\n"
     ]
    }
   ],
   "source": [
    "from scipy import stats as st\n",
    "import numpy as np\n",
    "\n",
    "sample_1 = df_a['sales_tot'].sample(5170, random_state=42)\n",
    "sample_2 = df_b['sales_tot'].sample(5170, random_state=42)\n",
    "\n",
    "alpha = 0.05 # уровень статистической значимости\n",
    "# если p-value окажется меньше него, отвергнем гипотезу\n",
    "\n",
    "results = st.mannwhitneyu(sample_1, sample_2)\n",
    "\n",
    "\n",
    "print('p-значение: ', results.pvalue)\n",
    "\n",
    "if results.pvalue < alpha:\n",
    "    print('Отвергаем нулевую гипотезу: разница статистически значима')\n",
    "else:\n",
    "    print(\n",
    "        'Не получилось отвергнуть нулевую гипотезу, вывод о различии сделать нельзя'\n",
    "    ) "
   ]
  },
  {
   "cell_type": "markdown",
   "metadata": {},
   "source": [
    "Заключаем на уровне 0.05 не дудалось отвергнуть нулевую гипотезу, а именно что есть различия в поведениях двух групп.И говорить, что какой-то макет письма, лучше другого непроиходится. Ни по сликам,ни по продажам в мобильном приложеннии, и уж точно  не по тотал продажам.\n",
    "\n",
    "Одноко, может стоит для лучшей убедительности провести ПСЕВДОстатистический эксперемент.(ВыйдеМ за рамки КОРРЕКТНОСТИ) Возьмем из каждой группы, только \"кликовых\" клиентов(254 и 221)  и на основе их поведения в переменных моб. и тотал продажах возможно зафиксируем разницу."
   ]
  },
  {
   "cell_type": "code",
   "execution_count": 149,
   "metadata": {},
   "outputs": [],
   "source": [
    "df_a = df_a.loc[(df['flag_clic'] == 1)]\n",
    "df_b = df_b.loc[(df['flag_clic'] == 1)]"
   ]
  },
  {
   "cell_type": "code",
   "execution_count": 150,
   "metadata": {},
   "outputs": [
    {
     "name": "stdout",
     "output_type": "stream",
     "text": [
      "p-значение:  0.03041085912667446\n",
      "Отвергаем нулевую гипотезу: разница статистически значима\n"
     ]
    }
   ],
   "source": [
    "from scipy import stats as st\n",
    "import numpy as np\n",
    "\n",
    "sample_1 = df_a['sales_mob'].sample(220,random_state=42)\n",
    "sample_2 = df_b['sales_mob'].sample(220,random_state=42)\n",
    "\n",
    "alpha = 0.05 # уровень статистической значимости\n",
    "# если p-value окажется меньше него, отвергнем гипотезу\n",
    "\n",
    "results = st.mannwhitneyu(sample_1, sample_2)\n",
    "\n",
    "\n",
    "print('p-значение: ', results.pvalue)\n",
    "\n",
    "if results.pvalue < alpha:\n",
    "    print('Отвергаем нулевую гипотезу: разница статистически значима')\n",
    "else:\n",
    "    print(\n",
    "        'Не получилось отвергнуть нулевую гипотезу, вывод о различии сделать нельзя'\n",
    "    )  "
   ]
  },
  {
   "cell_type": "markdown",
   "metadata": {},
   "source": [
    "Заключаем: как ни странно, псевдоэксперемент фиксирует, разницу в группах по переменой продажи в мобильном приложении. НО можно ли говрить, что это ответсвенно. Думаю вряд - ли. P.S Исключал  значение random_state и провел 10 итераций кода с продажами. Результат следующий: [0,0,1,0,0,1,0,0,1,1] 6- нет разницы, а в 4 есть. Вместе с тем, что надо понимать, что это псевдоэкперент. (грубо говоря переходим рамки корректности). Но что будет если посмомтреть на на переменную.\"тотал- продажи\""
   ]
  },
  {
   "cell_type": "code",
   "execution_count": 151,
   "metadata": {},
   "outputs": [
    {
     "name": "stdout",
     "output_type": "stream",
     "text": [
      "p-значение:  0.3868751492413143\n",
      "Не получилось отвергнуть нулевую гипотезу, вывод о различии сделать нельзя\n"
     ]
    }
   ],
   "source": [
    "from scipy import stats as st\n",
    "import numpy as np\n",
    "\n",
    "sample_1 = df_a['sales_tot'].sample(220, random_state=42)\n",
    "sample_2 = df_b['sales_tot'].sample(220, random_state=42)\n",
    "\n",
    "alpha = 0.05 # уровень статистической значимости\n",
    "# если p-value окажется меньше него, отвергнем гипотезу\n",
    "\n",
    "results = st.mannwhitneyu(sample_1, sample_2)\n",
    "\n",
    "\n",
    "print('p-значение: ', results.pvalue)\n",
    "\n",
    "if results.pvalue < alpha:\n",
    "    print('Отвергаем нулевую гипотезу: разница статистически значима')\n",
    "else:\n",
    "    print(\n",
    "        'Не получилось отвергнуть нулевую гипотезу, вывод о различии сделать нельзя'\n",
    "    ) "
   ]
  },
  {
   "cell_type": "markdown",
   "metadata": {},
   "source": [
    "К сожалению, все эксперменты показывают, отсутвие разницы в способности приносить value в зависимомоти от нового/старого макета письма."
   ]
  },
  {
   "cell_type": "markdown",
   "metadata": {},
   "source": [
    "### Вывод на главный вопрос: есть ли отличия в поведении участников в зависимости от макета (дизайна) письма? \n",
    "### Категоричеки нет!!! ."
   ]
  },
  {
   "cell_type": "markdown",
   "metadata": {},
   "source": [
    "###### Выполнило: Кашаев Андрей"
   ]
  }
 ],
 "metadata": {
  "kernelspec": {
   "display_name": "Python 3",
   "language": "python",
   "name": "python3"
  },
  "language_info": {
   "codemirror_mode": {
    "name": "ipython",
    "version": 3
   },
   "file_extension": ".py",
   "mimetype": "text/x-python",
   "name": "python",
   "nbconvert_exporter": "python",
   "pygments_lexer": "ipython3",
   "version": "3.7.3"
  }
 },
 "nbformat": 4,
 "nbformat_minor": 2
}
